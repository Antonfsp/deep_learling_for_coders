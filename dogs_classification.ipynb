{
  "nbformat": 4,
  "nbformat_minor": 0,
  "metadata": {
    "colab": {
      "name": "Untitled1.ipynb",
      "provenance": [],
      "authorship_tag": "ABX9TyPmd4v/fXoZdJdbF/mH0kHK",
      "include_colab_link": true
    },
    "kernelspec": {
      "name": "python3",
      "display_name": "Python 3"
    },
    "language_info": {
      "name": "python"
    },
    "accelerator": "GPU"
  },
  "cells": [
    {
      "cell_type": "markdown",
      "metadata": {
        "id": "view-in-github",
        "colab_type": "text"
      },
      "source": [
        "<a href=\"https://colab.research.google.com/github/Antonfsp/deep_learling_for_coders/blob/main/dogs_classification.ipynb\" target=\"_parent\"><img src=\"https://colab.research.google.com/assets/colab-badge.svg\" alt=\"Open In Colab\"/></a>"
      ]
    },
    {
      "cell_type": "markdown",
      "metadata": {
        "id": "mjcHzXEcI4aq"
      },
      "source": [
        "# My first model\n",
        "\n",
        "In this notebook I develop my first deep learning model, following the learned in the lessons 1, 2 and 3 of the course \"Deep learning for coders (2020)\" teached by fast.ia .\n",
        "\n",
        "The model will be a image clasiffier model capable of differentiate between 4 types of dogs: collie, golden retriever, german shepard and chihuahua."
      ]
    },
    {
      "cell_type": "markdown",
      "metadata": {
        "id": "jAu1M-umPVS4"
      },
      "source": [
        "### The library"
      ]
    },
    {
      "cell_type": "markdown",
      "metadata": {
        "id": "SLaOePlJOoW0"
      },
      "source": [
        "We import download and import the fastbook library."
      ]
    },
    {
      "cell_type": "code",
      "metadata": {
        "colab": {
          "base_uri": "https://localhost:8080/"
        },
        "id": "IPW7qjImJSxw",
        "outputId": "2932bf0a-d10e-41a7-e216-1427931c1a6d"
      },
      "source": [
        "!pip install -Uqq fastbook\n",
        "import fastbook\n",
        "fastbook.setup_book()"
      ],
      "execution_count": 3,
      "outputs": [
        {
          "output_type": "stream",
          "name": "stdout",
          "text": [
            "\u001b[K     |████████████████████████████████| 720 kB 5.2 MB/s \n",
            "\u001b[K     |████████████████████████████████| 189 kB 44.1 MB/s \n",
            "\u001b[K     |████████████████████████████████| 46 kB 3.9 MB/s \n",
            "\u001b[K     |████████████████████████████████| 1.2 MB 32.1 MB/s \n",
            "\u001b[K     |████████████████████████████████| 56 kB 4.5 MB/s \n",
            "\u001b[K     |████████████████████████████████| 51 kB 285 kB/s \n",
            "\u001b[?25hMounted at /content/gdrive\n"
          ]
        }
      ]
    },
    {
      "cell_type": "code",
      "metadata": {
        "id": "RBd2sLlzO37Q"
      },
      "source": [
        "from fastbook import *"
      ],
      "execution_count": 4,
      "outputs": []
    },
    {
      "cell_type": "markdown",
      "metadata": {
        "id": "XBqwQzgBPbTp"
      },
      "source": [
        "## Getting the data\n",
        "\n",
        "In this case, we will download 100 images of each type of dogs, using the DuckDuckGo image downloading API.\n"
      ]
    },
    {
      "cell_type": "code",
      "metadata": {
        "id": "PGUxBt53QXSH"
      },
      "source": [
        "dog_types = 'collie','golden_retriever','german_shepard','chihuahua'\n",
        "\n",
        "path = Path('dogs')\n",
        "\n",
        "if not path.exists():\n",
        "    path.mkdir()\n",
        "    for o in dog_types:\n",
        "        dest = (path/o)\n",
        "        dest.mkdir(exist_ok=True)\n",
        "        results = search_images_ddg(f'{o} dogs', max_images=100)\n",
        "        download_images(dest, urls=results)\n",
        "\n"
      ],
      "execution_count": 5,
      "outputs": []
    },
    {
      "cell_type": "markdown",
      "metadata": {
        "id": "yg5z1HWvRlUC"
      },
      "source": [
        "We check that the images where created"
      ]
    },
    {
      "cell_type": "code",
      "metadata": {
        "id": "5t8V6OdcRMJn",
        "outputId": "46ea4ad2-dda6-472e-a45b-f2c71473b6bd",
        "colab": {
          "base_uri": "https://localhost:8080/"
        }
      },
      "source": [
        "fns = get_image_files(path)\n",
        "fns"
      ],
      "execution_count": 6,
      "outputs": [
        {
          "output_type": "execute_result",
          "data": {
            "text/plain": [
              "(#390) [Path('dogs/collie/00000038.jpg'),Path('dogs/collie/00000036.jpg'),Path('dogs/collie/00000029.jpeg'),Path('dogs/collie/00000085.jpg'),Path('dogs/collie/00000043.jpg'),Path('dogs/collie/00000095.jpg'),Path('dogs/collie/00000097.png'),Path('dogs/collie/00000070.jpg'),Path('dogs/collie/00000077.jpg'),Path('dogs/collie/00000069.jpg')...]"
            ]
          },
          "metadata": {},
          "execution_count": 6
        }
      ]
    },
    {
      "cell_type": "markdown",
      "metadata": {
        "id": "TfE6girThV8V"
      },
      "source": [
        "We check if the images can be open"
      ]
    },
    {
      "cell_type": "code",
      "metadata": {
        "id": "ivnBElFxgi8-",
        "outputId": "736f0368-ac91-4079-d680-435069cca398",
        "colab": {
          "base_uri": "https://localhost:8080/"
        }
      },
      "source": [
        "failed = verify_images(fns)\n",
        "failed\n"
      ],
      "execution_count": 7,
      "outputs": [
        {
          "output_type": "stream",
          "name": "stderr",
          "text": [
            "/usr/local/lib/python3.7/dist-packages/PIL/TiffImagePlugin.py:788: UserWarning: Corrupt EXIF data.  Expecting to read 4 bytes but only got 0. \n",
            "  warnings.warn(str(msg))\n"
          ]
        },
        {
          "output_type": "execute_result",
          "data": {
            "text/plain": [
              "(#5) [Path('dogs/golden_retriever/00000009.jpg'),Path('dogs/golden_retriever/00000061.jpg'),Path('dogs/german_shepard/00000088.jpg'),Path('dogs/german_shepard/00000012.jpg'),Path('dogs/german_shepard/00000031.jpg')]"
            ]
          },
          "metadata": {},
          "execution_count": 7
        }
      ]
    },
    {
      "cell_type": "code",
      "metadata": {
        "id": "BV6Cygw8hdBV"
      },
      "source": [
        ""
      ],
      "execution_count": null,
      "outputs": []
    }
  ]
}
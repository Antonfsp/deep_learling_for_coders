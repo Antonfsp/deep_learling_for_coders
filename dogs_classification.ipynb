{
  "nbformat": 4,
  "nbformat_minor": 0,
  "metadata": {
    "colab": {
      "name": "Untitled1.ipynb",
      "provenance": [],
      "authorship_tag": "ABX9TyOflstCEynz5jlNffzriYsX",
      "include_colab_link": true
    },
    "kernelspec": {
      "name": "python3",
      "display_name": "Python 3"
    },
    "language_info": {
      "name": "python"
    },
    "accelerator": "GPU"
  },
  "cells": [
    {
      "cell_type": "markdown",
      "metadata": {
        "id": "view-in-github",
        "colab_type": "text"
      },
      "source": [
        "<a href=\"https://colab.research.google.com/github/Antonfsp/deep_learling_for_coders/blob/main/dogs_classification.ipynb\" target=\"_parent\"><img src=\"https://colab.research.google.com/assets/colab-badge.svg\" alt=\"Open In Colab\"/></a>"
      ]
    },
    {
      "cell_type": "markdown",
      "metadata": {
        "id": "mjcHzXEcI4aq"
      },
      "source": [
        "# My first model\n",
        "\n",
        "In this notebook I develop my first deep learning model, following the learned in the lessons 1, 2 and 3 of the course \"Deep learning for coders (2020)\" teached by fast.ia .\n",
        "\n",
        "The model will be a image clasiffier model capable of differentiate between 4 types of dogs: collie, golden retriever, german shepard and chihuahua."
      ]
    },
    {
      "cell_type": "markdown",
      "metadata": {
        "id": "jAu1M-umPVS4"
      },
      "source": [
        "### The library"
      ]
    },
    {
      "cell_type": "markdown",
      "metadata": {
        "id": "SLaOePlJOoW0"
      },
      "source": [
        "We import download and import the fastbook library."
      ]
    },
    {
      "cell_type": "code",
      "metadata": {
        "colab": {
          "base_uri": "https://localhost:8080/"
        },
        "id": "IPW7qjImJSxw",
        "outputId": "2932bf0a-d10e-41a7-e216-1427931c1a6d"
      },
      "source": [
        "!pip install -Uqq fastbook\n",
        "import fastbook\n",
        "fastbook.setup_book()"
      ],
      "execution_count": null,
      "outputs": [
        {
          "output_type": "stream",
          "name": "stdout",
          "text": [
            "\u001b[K     |████████████████████████████████| 720 kB 5.2 MB/s \n",
            "\u001b[K     |████████████████████████████████| 189 kB 44.1 MB/s \n",
            "\u001b[K     |████████████████████████████████| 46 kB 3.9 MB/s \n",
            "\u001b[K     |████████████████████████████████| 1.2 MB 32.1 MB/s \n",
            "\u001b[K     |████████████████████████████████| 56 kB 4.5 MB/s \n",
            "\u001b[K     |████████████████████████████████| 51 kB 285 kB/s \n",
            "\u001b[?25hMounted at /content/gdrive\n"
          ]
        }
      ]
    },
    {
      "cell_type": "code",
      "metadata": {
        "id": "RBd2sLlzO37Q"
      },
      "source": [
        "from fastbook import *"
      ],
      "execution_count": null,
      "outputs": []
    },
    {
      "cell_type": "markdown",
      "metadata": {
        "id": "XBqwQzgBPbTp"
      },
      "source": [
        "## Getting the data\n",
        "\n",
        "In this case, we will download 100 images of each type of dogs, using the DuckDuckGo image downloading API.\n"
      ]
    },
    {
      "cell_type": "code",
      "metadata": {
        "id": "PGUxBt53QXSH"
      },
      "source": [
        "dog_types = 'collie','golden_retriever','german_shepard','chihuahua'\n",
        "\n",
        "path = Path('dogs')\n",
        "\n",
        "if not path.exists():\n",
        "    path.mkdir()\n",
        "    for o in dog_types:\n",
        "        dest = (path/o)\n",
        "        dest.mkdir(exist_ok=True)\n",
        "        results = search_images_ddg(f'{o} dogs', max_images=100)\n",
        "        download_images(dest, urls=results)\n",
        "\n"
      ],
      "execution_count": null,
      "outputs": []
    },
    {
      "cell_type": "markdown",
      "metadata": {
        "id": "yg5z1HWvRlUC"
      },
      "source": [
        "We check that the images where created"
      ]
    },
    {
      "cell_type": "code",
      "metadata": {
        "id": "5t8V6OdcRMJn",
        "colab": {
          "base_uri": "https://localhost:8080/"
        },
        "outputId": "46ea4ad2-dda6-472e-a45b-f2c71473b6bd"
      },
      "source": [
        "fns = get_image_files(path)\n",
        "fns"
      ],
      "execution_count": null,
      "outputs": [
        {
          "output_type": "execute_result",
          "data": {
            "text/plain": [
              "(#390) [Path('dogs/collie/00000038.jpg'),Path('dogs/collie/00000036.jpg'),Path('dogs/collie/00000029.jpeg'),Path('dogs/collie/00000085.jpg'),Path('dogs/collie/00000043.jpg'),Path('dogs/collie/00000095.jpg'),Path('dogs/collie/00000097.png'),Path('dogs/collie/00000070.jpg'),Path('dogs/collie/00000077.jpg'),Path('dogs/collie/00000069.jpg')...]"
            ]
          },
          "metadata": {},
          "execution_count": 6
        }
      ]
    },
    {
      "cell_type": "markdown",
      "metadata": {
        "id": "TfE6girThV8V"
      },
      "source": [
        "We check if the images can be open"
      ]
    },
    {
      "cell_type": "code",
      "metadata": {
        "id": "ivnBElFxgi8-",
        "colab": {
          "base_uri": "https://localhost:8080/"
        },
        "outputId": "736f0368-ac91-4079-d680-435069cca398"
      },
      "source": [
        "failed = verify_images(fns)\n",
        "failed\n"
      ],
      "execution_count": null,
      "outputs": [
        {
          "output_type": "stream",
          "name": "stderr",
          "text": [
            "/usr/local/lib/python3.7/dist-packages/PIL/TiffImagePlugin.py:788: UserWarning: Corrupt EXIF data.  Expecting to read 4 bytes but only got 0. \n",
            "  warnings.warn(str(msg))\n"
          ]
        },
        {
          "output_type": "execute_result",
          "data": {
            "text/plain": [
              "(#5) [Path('dogs/golden_retriever/00000009.jpg'),Path('dogs/golden_retriever/00000061.jpg'),Path('dogs/german_shepard/00000088.jpg'),Path('dogs/german_shepard/00000012.jpg'),Path('dogs/german_shepard/00000031.jpg')]"
            ]
          },
          "metadata": {},
          "execution_count": 7
        }
      ]
    },
    {
      "cell_type": "markdown",
      "metadata": {
        "id": "SIfXgbftbfWz"
      },
      "source": [
        "\n",
        "We delete the images that can not be opened. verify_images returns an object of type L, which includes the method .map, which calls the passed functions for each element of the collection.\n",
        "---\n",
        "\n"
      ]
    },
    {
      "cell_type": "code",
      "metadata": {
        "id": "5wLYg25wbk2_"
      },
      "source": [
        "failed.map(Path.unlink);"
      ],
      "execution_count": null,
      "outputs": []
    },
    {
      "cell_type": "markdown",
      "metadata": {
        "id": "MIjWZLr3cUxM"
      },
      "source": [
        "# Setting up the model.\n",
        "\n",
        "Now that the data is ready, we have to create a DataLoaders."
      ]
    },
    {
      "cell_type": "code",
      "metadata": {
        "id": "_s6HEYZ6ceut"
      },
      "source": [
        "dogs = DataBlock(\n",
        "    blocks=(ImageBlock, CategoryBlock), \n",
        "    get_items=get_image_files, \n",
        "    splitter=RandomSplitter(valid_pct=0.2, seed=42),\n",
        "    get_y=parent_label,\n",
        "    item_tfms=RandomResizedCrop(224,min_scale=0.5),\n",
        "    batch_tfms=aug_transforms())"
      ],
      "execution_count": null,
      "outputs": []
    },
    {
      "cell_type": "markdown",
      "metadata": {
        "id": "2p_fLtvFcn5H"
      },
      "source": [
        "Previous command creates a \"template\". Now we sill have to create a actual DataLoaders."
      ]
    },
    {
      "cell_type": "code",
      "metadata": {
        "id": "bTFLqO_4c4z0"
      },
      "source": [
        "dls = dogs.dataloaders(path)"
      ],
      "execution_count": null,
      "outputs": []
    },
    {
      "cell_type": "markdown",
      "metadata": {
        "id": "sxdlRjRndAIP"
      },
      "source": [
        "We can check some images on the Validation DataLoarder which is in the DataLoarders."
      ]
    },
    {
      "cell_type": "code",
      "metadata": {
        "id": "-1wr5C1HdQjJ"
      },
      "source": [
        "dls.valid.show_batch(max_n=4, nrows=1)\n"
      ],
      "execution_count": null,
      "outputs": []
    },
    {
      "cell_type": "markdown",
      "metadata": {
        "id": "SXhOKtLTd1Vk"
      },
      "source": [
        "Also we can check the same image from the training DataLoader with multiple iterations of the item transformations."
      ]
    },
    {
      "cell_type": "code",
      "metadata": {
        "id": "q4XhuyZIdRKI"
      },
      "source": [
        "dls.train.show_batch(max_n=4, nrows=1, unique=True)"
      ],
      "execution_count": null,
      "outputs": []
    },
    {
      "cell_type": "markdown",
      "metadata": {
        "id": "RUQKdTMheTJV"
      },
      "source": [
        "## Training the model"
      ]
    },
    {
      "cell_type": "code",
      "metadata": {
        "id": "V6FS1eroeXTZ"
      },
      "source": [
        "learn = cnn_learner(dls, resnet18, metrics=error_rate)\n",
        "learn.fine_tune(4)"
      ],
      "execution_count": null,
      "outputs": []
    },
    {
      "cell_type": "markdown",
      "metadata": {
        "id": "TpQjQ_HWeaf-"
      },
      "source": [
        "We can check the confusion matrix."
      ]
    },
    {
      "cell_type": "code",
      "metadata": {
        "id": "JsPPbkjOee-d"
      },
      "source": [
        "interp = ClassificationInterpretation.from_learner(learn)\n",
        "interp.plot_confusion_matrix()"
      ],
      "execution_count": null,
      "outputs": []
    },
    {
      "cell_type": "markdown",
      "metadata": {
        "id": "UnBUNNTyelKd"
      },
      "source": [
        "Once our model is trained, we can use it to clean the data in a easier way, using the following GUI."
      ]
    },
    {
      "cell_type": "code",
      "metadata": {
        "id": "LBQhpDcteugL"
      },
      "source": [
        "cleaner = ImageClassifierCleaner(learn)\n",
        "cleaner"
      ],
      "execution_count": null,
      "outputs": []
    },
    {
      "cell_type": "markdown",
      "metadata": {
        "id": "aSCpeV84eyIY"
      },
      "source": [
        "Now we run the following commands to actually delete or move the images we have just selected in the previus interface."
      ]
    },
    {
      "cell_type": "code",
      "metadata": {
        "id": "Yf2KVWGNe4H9"
      },
      "source": [
        "# for idx in cleaner.delete(): cleaner.fns[idx].unlink()\n",
        "# for idx,cat in cleaner.change(): shutil.move(str(cleaner.fns[idx]), path/cat)"
      ],
      "execution_count": null,
      "outputs": []
    },
    {
      "cell_type": "markdown",
      "metadata": {
        "id": "iIw4yDwXe8L9"
      },
      "source": [
        "# Exporting and importing the model\n",
        "\n",
        "Now we can export the model to use it anywhere."
      ]
    },
    {
      "cell_type": "code",
      "metadata": {
        "id": "tSzITnNtfCNg"
      },
      "source": [
        "path = Path()\n",
        "path.ls(file_exts='.pkl')"
      ],
      "execution_count": null,
      "outputs": []
    },
    {
      "cell_type": "markdown",
      "metadata": {
        "id": "XKoS57VFfIKP"
      },
      "source": [
        "We can also import a model."
      ]
    },
    {
      "cell_type": "code",
      "metadata": {
        "id": "OFJUZNwFfKPC"
      },
      "source": [
        "learn_inf = load_learner(path/'export.pkl')"
      ],
      "execution_count": null,
      "outputs": []
    }
  ]
}